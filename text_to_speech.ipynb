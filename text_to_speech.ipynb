{
 "cells": [
  {
   "cell_type": "code",
   "execution_count": 1,
   "metadata": {},
   "outputs": [],
   "source": [
    "import tkinter as tk\n",
    "from tkinter import messagebox\n",
    "from gtts import gTTS\n",
    "import os\n",
    "from playsound import playsound\n",
    "\n",
    "# Function to convert text to speech\n",
    "def text_to_speech():\n",
    "    text = text_entry.get(\"1.0\", tk.END).strip()\n",
    "    if text:\n",
    "        try:\n",
    "            tts = gTTS(text=text, lang='en')\n",
    "            tts.save(\"speech.mp3\")\n",
    "            playsound(\"speech.mp3\")\n",
    "        except Exception as e:\n",
    "            messagebox.showerror(\"Error\", f\"Failed to convert text to speech:\\n{e}\")\n",
    "    else:\n",
    "        messagebox.showwarning(\"Input Required\", \"Please enter text to convert to speech.\")\n",
    "\n",
    "# Function to exit the application\n",
    "def exit_app():\n",
    "    root.destroy()\n",
    "\n",
    "# Setting up the GUI\n",
    "root = tk.Tk()\n",
    "root.title(\"Text to Speech Converter\")\n",
    "root.geometry(\"400x300\")\n",
    "root.configure(bg=\"#f0f0f0\")\n",
    "\n",
    "# Text input label\n",
    "text_label = tk.Label(root, text=\"Enter Text:\", bg=\"#f0f0f0\", fg=\"#333333\", font=(\"Arial\", 12))\n",
    "text_label.pack(pady=10)\n",
    "\n",
    "# Text input field\n",
    "text_entry = tk.Text(root, height=10, width=50, bg=\"#ffffff\", fg=\"#333333\", font=(\"Arial\", 10))\n",
    "text_entry.pack(pady=10)\n",
    "\n",
    "# Convert button\n",
    "convert_button = tk.Button(root, text=\"Convert to Speech\", command=text_to_speech, bg=\"#4caf50\", fg=\"#ffffff\", font=(\"Arial\", 12), activebackground=\"#45a049\")\n",
    "convert_button.pack(pady=10)\n",
    "\n",
    "# Exit button\n",
    "exit_button = tk.Button(root, text=\"Exit\", command=exit_app, bg=\"#f44336\", fg=\"#ffffff\", font=(\"Arial\", 12), activebackground=\"#e53935\")\n",
    "exit_button.pack(pady=10)\n",
    "\n",
    "# Start the GUI event loop\n",
    "root.mainloop()\n"
   ]
  }
 ],
 "metadata": {
  "kernelspec": {
   "display_name": "Python 3",
   "language": "python",
   "name": "python3"
  },
  "language_info": {
   "codemirror_mode": {
    "name": "ipython",
    "version": 3
   },
   "file_extension": ".py",
   "mimetype": "text/x-python",
   "name": "python",
   "nbconvert_exporter": "python",
   "pygments_lexer": "ipython3",
   "version": "3.12.3"
  }
 },
 "nbformat": 4,
 "nbformat_minor": 2
}
